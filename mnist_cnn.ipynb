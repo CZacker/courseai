{
 "cells": [
  {
   "cell_type": "markdown",
   "metadata": {},
   "source": [
    "# Keras深度学习模型建立\n",
    "以下数据来自MNIST dataset.  \n",
    "12次迭代后测试acc可达到99.25%,模型需要大量参数调整。"
   ]
  },
  {
   "cell_type": "markdown",
   "metadata": {},
   "source": [
    "## 1、引入各类库"
   ]
  },
  {
   "cell_type": "code",
   "execution_count": 1,
   "metadata": {},
   "outputs": [
    {
     "name": "stderr",
     "output_type": "stream",
     "text": [
      "Using TensorFlow backend.\n"
     ]
    }
   ],
   "source": [
    "from __future__ import print_function\n",
    "import keras\n",
    "from keras.datasets import mnist\n",
    "from keras.models import Sequential\n",
    "from keras.layers import Dense, Dropout, Flatten\n",
    "from keras.layers import Conv2D, MaxPooling2D\n",
    "from keras import backend as K"
   ]
  },
  {
   "cell_type": "markdown",
   "metadata": {},
   "source": [
    "## 2、对模型输入进行设置，并加载数据"
   ]
  },
  {
   "cell_type": "code",
   "execution_count": 2,
   "metadata": {},
   "outputs": [],
   "source": [
    "batch_size = 128\n",
    "num_classes = 10\n",
    "epochs = 12\n",
    "\n",
    "# input image dimensions\n",
    "img_rows, img_cols = 28, 28\n",
    "\n",
    "# the data, split between train and test sets\n",
    "(x_train, y_train), (x_test, y_test) = mnist.load_data()"
   ]
  },
  {
   "cell_type": "code",
   "execution_count": 3,
   "metadata": {},
   "outputs": [
    {
     "name": "stdout",
     "output_type": "stream",
     "text": [
      "x_train shape: (60000, 28, 28, 1)\n",
      "60000 train samples\n",
      "10000 test samples\n"
     ]
    }
   ],
   "source": [
    "if K.image_data_format() == 'channels_first':\n",
    "    x_train = x_train.reshape(x_train.shape[0], 1, img_rows, img_cols)\n",
    "    x_test = x_test.reshape(x_test.shape[0], 1, img_rows, img_cols)\n",
    "    input_shape = (1, img_rows, img_cols)\n",
    "else:\n",
    "    x_train = x_train.reshape(x_train.shape[0], img_rows, img_cols, 1)\n",
    "    x_test = x_test.reshape(x_test.shape[0], img_rows, img_cols, 1)\n",
    "    input_shape = (img_rows, img_cols, 1)\n",
    "\n",
    "x_train = x_train.astype('float32')\n",
    "x_test = x_test.astype('float32')\n",
    "x_train /= 255\n",
    "x_test /= 255\n",
    "print('x_train shape:', x_train.shape)\n",
    "print(x_train.shape[0], 'train samples')\n",
    "print(x_test.shape[0], 'test samples')"
   ]
  },
  {
   "cell_type": "code",
   "execution_count": 4,
   "metadata": {},
   "outputs": [],
   "source": [
    "# convert class vectors to binary class matrices\n",
    "y_train = keras.utils.to_categorical(y_train, num_classes)\n",
    "y_test = keras.utils.to_categorical(y_test, num_classes)"
   ]
  },
  {
   "cell_type": "markdown",
   "metadata": {},
   "source": [
    "## 3、预览数据"
   ]
  },
  {
   "cell_type": "code",
   "execution_count": 26,
   "metadata": {},
   "outputs": [
    {
     "data": {
      "image/png": "[encoded data removed]",
      "text/plain": [
       "<Figure size 864x576 with 10 Axes>"
      ]
     },
     "metadata": {
      "needs_background": "light"
     },
     "output_type": "display_data"
    }
   ],
   "source": [
    "import matplotlib.pyplot as plt\n",
    "%matplotlib inline\n",
    "\n",
    "plt.figure(figsize=(12, 8))\n",
    "for i in range(0, num_classes):\n",
    "    plt.subplot(3, 4, i+1)\n",
    "    x_selected = x_train[i*5999]\n",
    "    plt.imshow(x_selected.squeeze(), cmap=\"gray\")\n",
    "    plt.title(list(y_train[i*5999]).index(1))\n",
    "    plt.axis('off')\n",
    "plt.show()"
   ]
  },
  {
   "cell_type": "markdown",
   "metadata": {},
   "source": [
    "## 4、建立模型"
   ]
  },
  {
   "cell_type": "code",
   "execution_count": 5,
   "metadata": {},
   "outputs": [],
   "source": [
    "model = Sequential()\n",
    "model.add(Conv2D(32, kernel_size=(3, 3),\n",
    "                 activation='relu',\n",
    "                 input_shape=input_shape))\n",
    "model.add(Conv2D(64, (3, 3), activation='relu'))\n",
    "model.add(MaxPooling2D(pool_size=(2, 2)))\n",
    "model.add(Dropout(0.25))\n",
    "model.add(Flatten())\n",
    "model.add(Dense(128, activation='relu'))\n",
    "model.add(Dropout(0.5))\n",
    "model.add(Dense(num_classes, activation='softmax'))"
   ]
  },
  {
   "cell_type": "markdown",
   "metadata": {},
   "source": [
    "## 5、打印出当前模型"
   ]
  },
  {
   "cell_type": "code",
   "execution_count": 7,
   "metadata": {},
   "outputs": [
    {
     "name": "stdout",
     "output_type": "stream",
     "text": [
      "_________________________________________________________________\n",
      "Layer (type)                 Output Shape              Param #   \n",
      "=================================================================\n",
      "conv2d_1 (Conv2D)            (None, 26, 26, 32)        320       \n",
      "_________________________________________________________________\n",
      "conv2d_2 (Conv2D)            (None, 24, 24, 64)        18496     \n",
      "_________________________________________________________________\n",
      "max_pooling2d_1 (MaxPooling2 (None, 12, 12, 64)        0         \n",
      "_________________________________________________________________\n",
      "dropout_1 (Dropout)          (None, 12, 12, 64)        0         \n",
      "_________________________________________________________________\n",
      "flatten_1 (Flatten)          (None, 9216)              0         \n",
      "_________________________________________________________________\n",
      "dense_1 (Dense)              (None, 128)               1179776   \n",
      "_________________________________________________________________\n",
      "dropout_2 (Dropout)          (None, 128)               0         \n",
      "_________________________________________________________________\n",
      "dense_2 (Dense)              (None, 10)                1290      \n",
      "=================================================================\n",
      "Total params: 1,199,882\n",
      "Trainable params: 1,199,882\n",
      "Non-trainable params: 0\n",
      "_________________________________________________________________\n",
      "None\n"
     ]
    }
   ],
   "source": [
    "print(model.summary())"
   ]
  },
  {
   "cell_type": "code",
   "execution_count": 6,
   "metadata": {},
   "outputs": [
    {
     "name": "stdout",
     "output_type": "stream",
     "text": [
      "Train on 60000 samples, validate on 10000 samples\n",
      "Epoch 1/12\n",
      "60000/60000 [==============================] - 54s 893us/step - loss: 0.3325 - acc: 0.8982 - val_loss: 0.0769 - val_acc: 0.9755\n",
      "Epoch 2/12\n",
      "60000/60000 [==============================] - 51s 847us/step - loss: 0.1146 - acc: 0.9663 - val_loss: 0.0545 - val_acc: 0.9819\n",
      "Epoch 3/12\n",
      "60000/60000 [==============================] - 50s 830us/step - loss: 0.0848 - acc: 0.9743 - val_loss: 0.0405 - val_acc: 0.9860\n",
      "Epoch 4/12\n",
      "60000/60000 [==============================] - 49s 825us/step - loss: 0.0716 - acc: 0.9791 - val_loss: 0.0391 - val_acc: 0.9864\n",
      "Epoch 5/12\n",
      "60000/60000 [==============================] - 49s 820us/step - loss: 0.0618 - acc: 0.9812 - val_loss: 0.0339 - val_acc: 0.9880\n",
      "Epoch 6/12\n",
      "60000/60000 [==============================] - 51s 847us/step - loss: 0.0569 - acc: 0.9835 - val_loss: 0.0308 - val_acc: 0.9893\n",
      "Epoch 7/12\n",
      "60000/60000 [==============================] - 49s 824us/step - loss: 0.0510 - acc: 0.9850 - val_loss: 0.0314 - val_acc: 0.9887\n",
      "Epoch 8/12\n",
      "60000/60000 [==============================] - 50s 827us/step - loss: 0.0469 - acc: 0.9863 - val_loss: 0.0294 - val_acc: 0.9899\n",
      "Epoch 9/12\n",
      "60000/60000 [==============================] - 50s 825us/step - loss: 0.0437 - acc: 0.9870 - val_loss: 0.0293 - val_acc: 0.9901\n",
      "Epoch 10/12\n",
      "60000/60000 [==============================] - 49s 821us/step - loss: 0.0399 - acc: 0.9876 - val_loss: 0.0295 - val_acc: 0.9901\n",
      "Epoch 11/12\n",
      "60000/60000 [==============================] - 49s 824us/step - loss: 0.0385 - acc: 0.9888 - val_loss: 0.0281 - val_acc: 0.9900\n",
      "Epoch 12/12\n",
      "60000/60000 [==============================] - 49s 820us/step - loss: 0.0359 - acc: 0.9890 - val_loss: 0.0269 - val_acc: 0.9912\n"
     ]
    },
    {
     "data": {
      "text/plain": [
       "<keras.callbacks.History at 0x2310a091940>"
      ]
     },
     "execution_count": 6,
     "metadata": {},
     "output_type": "execute_result"
    }
   ],
   "source": [
    "model.compile(loss=keras.losses.categorical_crossentropy,\n",
    "              optimizer=keras.optimizers.Adadelta(),\n",
    "              metrics=['accuracy'])\n",
    "\n",
    "model.fit(x_train, y_train,\n",
    "          batch_size=batch_size,\n",
    "          epochs=epochs,\n",
    "          verbose=1,\n",
    "          validation_data=(x_test, y_test))"
   ]
  },
  {
   "cell_type": "code",
   "execution_count": 8,
   "metadata": {},
   "outputs": [
    {
     "name": "stdout",
     "output_type": "stream",
     "text": [
      "Test loss: 0.026880006876480185\n",
      "Test accuracy: 0.9912\n"
     ]
    }
   ],
   "source": [
    "score = model.evaluate(x_test, y_test, verbose=0)\n",
    "print('Test loss:', score[0])\n",
    "print('Test accuracy:', score[1])"
   ]
  },
  {
   "cell_type": "code",
   "execution_count": 33,
   "metadata": {},
   "outputs": [
    {
     "name": "stdout",
     "output_type": "stream",
     "text": [
      "real:5&5,predict:[[1.7816930e-09 1.6010233e-07 9.9074517e-09 1.6099047e-02 3.5269199e-10\n",
      "  9.8389637e-01 2.6876404e-07 2.6415989e-08 7.7362159e-07 3.4511318e-06]]\n",
      "real:1&1,predict:[[4.0463460e-10 9.9999976e-01 9.9581206e-09 2.3093971e-11 2.9726922e-07\n",
      "  9.0706130e-11 1.0735798e-08 1.3711901e-08 1.0890312e-08 6.7370658e-12]]\n",
      "real:0&0,predict:[[9.9999917e-01 3.1188022e-10 6.3567832e-08 2.5801281e-11 3.5862261e-08\n",
      "  4.5433340e-12 5.1272406e-07 2.5170505e-10 9.2487824e-08 9.9220024e-08]]\n",
      "real:1&1,predict:[[1.0283150e-07 9.9993098e-01 2.4444606e-07 1.5505613e-08 1.6035399e-05\n",
      "  8.4503675e-08 2.9372339e-08 4.9854632e-05 2.2499451e-06 3.0369770e-07]]\n",
      "real:5&5,predict:[[2.5878418e-12 2.9573323e-11 7.7973489e-14 1.2418094e-08 4.5911382e-11\n",
      "  9.9999988e-01 5.3073196e-10 4.3152171e-13 1.2302441e-07 5.3111200e-09]]\n",
      "real:8&8,predict:[[5.1449361e-12 7.6929207e-10 4.5822486e-07 5.5136264e-09 3.8665851e-13\n",
      "  1.1804971e-10 1.1062639e-10 7.2161005e-10 9.9999952e-01 1.3538565e-11]]\n",
      "real:4&4,predict:[[1.32353062e-08 1.49044320e-06 1.79558398e-07 1.04416493e-08\n",
      "  9.89986479e-01 3.22469145e-06 9.90028366e-06 4.90669834e-07\n",
      "  1.00558405e-04 9.89770237e-03]]\n",
      "real:4&4,predict:[[3.7887825e-11 1.8569969e-09 1.0249927e-10 1.5400315e-11 1.0000000e+00\n",
      "  1.4664739e-10 6.4622183e-11 5.3717558e-10 1.4852580e-10 3.1394569e-09]]\n",
      "real:2&2,predict:[[5.1250026e-08 1.1076897e-02 9.8891616e-01 2.1811472e-07 2.0783932e-07\n",
      "  5.3519229e-09 8.6035351e-07 6.6379005e-07 4.8861912e-06 5.0451565e-10]]\n",
      "real:4&4,predict:[[2.5999373e-08 1.4261889e-07 1.0459382e-06 6.5137868e-09 9.9999750e-01\n",
      "  5.5226881e-09 2.6085741e-07 3.9943569e-07 6.3196501e-07 1.4398141e-07]]\n"
     ]
    },
    {
     "data": {
      "image/png": "[encoded data removed]",
      "text/plain": [
       "<Figure size 864x576 with 10 Axes>"
      ]
     },
     "metadata": {
      "needs_background": "light"
     },
     "output_type": "display_data"
    }
   ],
   "source": [
    "plt.figure(figsize=(12, 8))\n",
    "for i in range(0, num_classes):\n",
    "    plt.subplot(3, 4, i+1)\n",
    "    x_selected = x_train[i*59:i*59+1]\n",
    "    plt.imshow(x_selected.squeeze(), cmap=\"gray\")\n",
    "    titles = \"real:\" + str(list(y_train[i*59]).index(1))+\",predict:\"+str(model.predict(x_selected))\n",
    "    print(titles)\n",
    "    plt.axis('off')\n",
    "plt.show()"
   ]
  },
  {
   "cell_type": "code",
   "execution_count": null,
   "metadata": {},
   "outputs": [],
   "source": []
  }
 ],
 "metadata": {
  "kernelspec": {
   "display_name": "Python 3",
   "language": "python",
   "name": "python3"
  },
  "language_info": {
   "codemirror_mode": {
    "name": "ipython",
    "version": 3
   },
   "file_extension": ".py",
   "mimetype": "text/x-python",
   "name": "python",
   "nbconvert_exporter": "python",
   "pygments_lexer": "ipython3",
   "version": "3.5.0"
  }
 },
 "nbformat": 4,
 "nbformat_minor": 1
}
